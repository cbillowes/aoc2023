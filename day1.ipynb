{
 "cells": [
  {
   "cell_type": "markdown",
   "metadata": {},
   "source": [
    "# Advent of Code 2023"
   ]
  },
  {
   "cell_type": "markdown",
   "metadata": {},
   "source": [
    "## Day 1 (Part 1 and Part 2)"
   ]
  },
  {
   "cell_type": "code",
   "execution_count": 54,
   "metadata": {},
   "outputs": [
    {
     "data": {
      "text/plain": [
       "54019"
      ]
     },
     "execution_count": 54,
     "metadata": {},
     "output_type": "execute_result"
    }
   ],
   "source": [
    "import re\n",
    "\n",
    "text_file = \"./day1.txt\"\n",
    "numbers = [\"zero\", \"one\", \"two\", \"three\", \"four\",\n",
    "           \"five\", \"six\", \"seven\", \"eight\", \"nine\"]\n",
    "\n",
    "input = ''\n",
    "with open(text_file) as f:\n",
    "    input = f.readlines()\n",
    "\n",
    "\n",
    "def replace(line):\n",
    "    if (max([line.find(number) for number in numbers]) < 0):\n",
    "        return line\n",
    "\n",
    "    for number in numbers:\n",
    "        try:\n",
    "            index = line.index(number)\n",
    "            if index >= 0:\n",
    "                line = line[:index+1] + \\\n",
    "                    str(numbers.index(number)) + line[index + 1:]\n",
    "        except:\n",
    "            line = line\n",
    "\n",
    "    return replace(line)\n",
    "\n",
    "\n",
    "def get_numbers(line):\n",
    "    return int(re.findall('\\d', line)[0] + \"\" + re.findall('\\d', line)[-1])\n",
    "\n",
    "\n",
    "input = [(replace(line), line, get_numbers(replace(line))) for line in input]\n",
    "\n",
    "# write to file\n",
    "with open('day1_output.txt', 'w') as f:\n",
    "    for line in input:\n",
    "        f.write(str(line) + '\\n')\n",
    "\n",
    "sum([line[2] for line in input])"
   ]
  },
  {
   "cell_type": "code",
   "execution_count": null,
   "metadata": {},
   "outputs": [],
   "source": [
    "import re\n",
    "\n",
    "numbers = [\"zero\", \"one\", \"two\", \"three\", \"four\",\n",
    "           \"five\", \"six\", \"seven\", \"eight\", \"nine\"]\n",
    "\n",
    "input = [\n",
    "    \"two1nine\",\n",
    "     \"eightwothree\",\n",
    "     \"pgvthree1six15nineoneone\",\n",
    "     \"abcone2threexyz\",\n",
    "     \"xtwone3four\",\n",
    "     \"4nineeightseven2\",\n",
    "     \"zoneight234\",\n",
    "     \"7pqrstsixteen\",\n",
    "     \"eighthree\",\n",
    "    \"sevenine\"\n",
    "]\n",
    "\n",
    "\n",
    "def replace(line):\n",
    "    if (max([line.find(number) for number in numbers]) < 0):\n",
    "        return line\n",
    "\n",
    "    for number in numbers:\n",
    "        try:\n",
    "            index = line.index(number)\n",
    "            if index >= 0:\n",
    "                line = line[:index+1] + \\\n",
    "                    str(numbers.index(number)) + line[index + 1:]\n",
    "        except:\n",
    "            line = line\n",
    "\n",
    "    return replace(line)\n",
    "\n",
    "\n",
    "def get_numbers(line):\n",
    "    first = re.findall('\\d', line)\n",
    "    second = re.findall('\\d', line)\n",
    "    if first and second:\n",
    "        return first[0] + \"\" + second[-1]\n",
    "\n",
    "\n",
    "input = [(line, get_numbers(replace(line)), replace(line)) for line in input]\n",
    "input"
   ]
  },
  {
   "cell_type": "code",
   "execution_count": 39,
   "metadata": {},
   "outputs": [
    {
     "data": {
      "text/plain": [
       "142"
      ]
     },
     "execution_count": 39,
     "metadata": {},
     "output_type": "execute_result"
    }
   ],
   "source": [
    "input = [\"1abc2\",\n",
    "         \"pqr3stu8vwx\",\n",
    "         \"a1b2c3d4e5f\",\n",
    "         \"treb7uchet\"]\n",
    "\n",
    "sum([int(re.findall('\\d', line)[0] + \"\" + re.findall('\\d', line)[-1]) for line in input])"
   ]
  }
 ],
 "metadata": {
  "kernelspec": {
   "display_name": "smart-compliance",
   "language": "python",
   "name": "python3"
  },
  "language_info": {
   "codemirror_mode": {
    "name": "ipython",
    "version": 3
   },
   "file_extension": ".py",
   "mimetype": "text/x-python",
   "name": "python",
   "nbconvert_exporter": "python",
   "pygments_lexer": "ipython3",
   "version": "3.11.5"
  }
 },
 "nbformat": 4,
 "nbformat_minor": 2
}
