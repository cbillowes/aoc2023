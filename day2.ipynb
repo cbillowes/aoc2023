{
 "cells": [
  {
   "cell_type": "markdown",
   "metadata": {},
   "source": [
    "# Day 2: Cube Conundrum"
   ]
  },
  {
   "cell_type": "code",
   "execution_count": 14,
   "metadata": {},
   "outputs": [],
   "source": [
    "games = [\n",
    "  \"Game 1: 3 blue, 4 red; 1 red, 2 green, 6 blue; 2 green\",\n",
    "  \"Game 2: 1 blue, 2 green; 3 green, 4 blue, 1 red; 1 green, 1 blue\",\n",
    "  \"Game 3: 8 green, 6 blue, 20 red; 5 blue, 4 red, 13 green; 5 green, 1 red\",\n",
    "  \"Game 4: 1 green, 3 red, 6 blue; 3 green, 6 red; 3 green, 15 blue, 14 red\",\n",
    "  \"Game 5: 6 red, 1 blue, 3 green; 2 blue, 1 red, 2 green\"\n",
    "]"
   ]
  },
  {
   "cell_type": "code",
   "execution_count": 89,
   "metadata": {},
   "outputs": [],
   "source": [
    "def get_game(id, game):\n",
    "    original = game\n",
    "    game = game.strip().split(\":\")[1].split(\";\")\n",
    "    game = [x.strip().split(\",\") for x in game]\n",
    "    for i, player in enumerate(game):\n",
    "        game[i] = [x.strip().split(\" \") for x in player]\n",
    "        b, r, g = 0, 0, 0\n",
    "        for j, card in enumerate(game[i]):\n",
    "            if card[1] == \"blue\":\n",
    "                b += int(card[0])\n",
    "            elif card[1] == \"red\":\n",
    "                r += int(card[0])\n",
    "            elif card[1] == \"green\":\n",
    "                g += int(card[0])\n",
    "            game[i][j] = [int(card[0]), card[1]]\n",
    "        if (r > 12 or g > 13 or b > 14):\n",
    "            return 0\n",
    "    return id"
   ]
  },
  {
   "cell_type": "code",
   "execution_count": 60,
   "metadata": {},
   "outputs": [
    {
     "data": {
      "text/plain": [
       "8"
      ]
     },
     "execution_count": 60,
     "metadata": {},
     "output_type": "execute_result"
    }
   ],
   "source": [
    "sum([get_game(id + 1, game) for id, game in enumerate(games)])"
   ]
  },
  {
   "cell_type": "code",
   "execution_count": 90,
   "metadata": {},
   "outputs": [
    {
     "name": "stdout",
     "output_type": "stream",
     "text": [
      "2727\n"
     ]
    }
   ],
   "source": [
    "text_file = \"./day2.txt\"\n",
    "\n",
    "games = []\n",
    "\n",
    "with open(text_file) as f:\n",
    "    print(sum([get_game(id + 1, game) for id, game in enumerate(f.readlines())]))\n"
   ]
  },
  {
   "cell_type": "markdown",
   "metadata": {},
   "source": [
    "## Part 2"
   ]
  },
  {
   "cell_type": "code",
   "execution_count": null,
   "metadata": {},
   "outputs": [],
   "source": [
    "\n"
   ]
  }
 ],
 "metadata": {
  "kernelspec": {
   "display_name": "lewagon",
   "language": "python",
   "name": "python3"
  },
  "language_info": {
   "codemirror_mode": {
    "name": "ipython",
    "version": 3
   },
   "file_extension": ".py",
   "mimetype": "text/x-python",
   "name": "python",
   "nbconvert_exporter": "python",
   "pygments_lexer": "ipython3",
   "version": "3.10.6"
  }
 },
 "nbformat": 4,
 "nbformat_minor": 2
}
